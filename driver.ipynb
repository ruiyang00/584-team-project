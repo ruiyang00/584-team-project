{
 "cells": [
  {
   "cell_type": "code",
   "execution_count": null,
   "id": "0bb1017f",
   "metadata": {},
   "outputs": [],
   "source": [
    "import pandas as pd\n",
    "import numpy as np\n",
    "from IPython.display import display, HTML\n",
    "\n",
    "\n",
    "'''\n",
    "Data preprocessing tasks include the following(https://kdd.org/cupfiles/KDDCupData/1998/cup98doc.txt)\n",
    "\n",
    "1. Noisy Data\n",
    "Some of the fields in the analysis file may contain data entry and/or\n",
    "formatting errors. You are expected to clean these fields (without\n",
    "excluding the records.)\n",
    "Rui: I think dataframe already takes care of this part. Dont think there is any data record as formatting issue\n",
    "\n",
    "2. Records and Fields with Missing and Sparse Data\n",
    "    2.1:Drop the attribute when it missing more than 99.5% \n",
    "    2.2:replace the missing record with the mean value of the avg. value of attribute\n",
    "        \n",
    "trim_data() function does this part. \n",
    "3.Fields Containing Constants\n",
    "'''\n",
    "\n",
    "\n",
    "def trim_data(data):\n",
    "    \n",
    "    #I think 1 is already done by dataframe\n",
    "    \n",
    "    #calculating the dropping_treshold \n",
    "    #2.1\n",
    "    perc = 99.5\n",
    "    min_count =  int(((100-perc)/100)*len(data)+ 1)\n",
    "    res = data.dropna(axis = 1, thresh=min_count, inplace=True)\n",
    "    \n",
    "\n",
    "    #2.2\n",
    "    numeric = df.select_dtypes(include=np.number)\n",
    "    numeric_columns = numeric.columns\n",
    "    df[numeric_columns] = df[numeric_columns].fillna(df.mean())\n",
    "    \n",
    "    #3 not done yet\n",
    "    \n",
    "    "
   ]
  }
 ],
 "metadata": {
  "kernelspec": {
   "display_name": "Python 3 (ipykernel)",
   "language": "python",
   "name": "python3"
  },
  "language_info": {
   "codemirror_mode": {
    "name": "ipython",
    "version": 3
   },
   "file_extension": ".py",
   "mimetype": "text/x-python",
   "name": "python",
   "nbconvert_exporter": "python",
   "pygments_lexer": "ipython3",
   "version": "3.9.5"
  }
 },
 "nbformat": 4,
 "nbformat_minor": 5
}
